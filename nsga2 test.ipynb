{
 "cells": [
  {
   "cell_type": "code",
   "execution_count": 12,
   "metadata": {},
   "outputs": [
    {
     "name": "stdout",
     "output_type": "stream",
     "text": [
      "[0.51821155 0.51695432 0.45615117 0.30015096 0.36873583 0.64366703\n",
      " 0.90832199 0.82472701 0.13842329 0.44611044 0.79249019 0.4179839\n",
      " 0.29274261 0.97293866 0.52527195 0.21456602 0.48423363 0.09690876\n",
      " 0.53910418 0.40793935 0.6705275  0.4782028  0.81284269 0.04470055\n",
      " 0.68981867 0.85048446 0.52232392 0.3570959  0.04081146 0.01162474\n",
      " 0.11021971 0.80929783 0.44282903 0.42492816 0.70896649 0.59385319\n",
      " 0.30103404 0.29193695 0.16910705 0.93524541 0.87585377 0.84720459\n",
      " 0.61748091 0.21103234 0.71457627 0.35105367 0.40661422 0.64086665\n",
      " 0.23783746 0.4372478  0.48343027 0.78936464 0.03294703 0.29068368\n",
      " 0.80405201 0.89450102 0.49203644 0.20260317 0.91407785]\n"
     ]
    }
   ],
   "source": [
    "import numpy as np\n",
    "#parameters\n",
    "individual_num=100#個体数\n",
    "design_num=10#遺伝子数\n",
    "objective_num=3\n",
    "pro_c=1\n",
    "dis_c=20\n",
    "pro_m=1\n",
    "dis_m=20\n",
    "\n",
    "#boundary\n",
    "lower=np.zeros((1,design_num))\n",
    "upper=np.ones((1,design_num))\n",
    "\n",
    "#func\n",
    "def func(x):\n",
    "        \"\"\"calculate the objective func vector\n",
    "           x: decision vectors\n",
    "           return: objective vectors\"\"\"\n",
    "        n=x.shape[0]\n",
    "        a=np.zeros((objective_num,design_num))\n",
    "        \n",
    "        for i in range(design_num):\n",
    "            for j in range(objective_num):\n",
    "                a[j,i]=((i+0.5)**(j-0.5))/(i+j+1.0)\n",
    "        obj=np.zeros((n,objective_num))\n",
    "        \n",
    "        for i in range(n):\n",
    "            for j in range(objective_num):\n",
    "                obj[i,j]=np.dot(x[i,:]**(j+1),a[j,:].T)\n",
    "                \n",
    "        return obj\n",
    "    \n",
    "pop_dec=np.random.random((individual_num,design_num))*(upper-lower)+lower\n",
    "pop_obj=func(pop_dec)\n",
    "\n",
    "pop_dec=pop_dec[:len(pop_dec)//2*2][:]\n",
    "(n,d)=np.shape(pop_dec)\n",
    "parent1=pop_dec[:n//2,:]\n",
    "parent2=pop_dec[n//2:,:]\n",
    "beta=np.zeros((n//2,d))\n",
    "mu=np.random.random((n//2,d))\n",
    "beta[mu<=0.5]=np.power(2*mu[mu<=0.5],1.0/(1.0+dis_c))\n",
    "beta[mu>0.5]=np.power(2*mu[mu>0.5],-1.0/(1.0+dis_c))\n",
    "beta[np.random.random((n//2,d))<0.5]=1.0\n",
    "beta[np.tile(np.random.random((n//2,1))> pro_c,(1,d))]=1.0\n",
    "offspring_dec=np.vstack(((parent1+parent2)/2+beta*(parent1-parent2)/2,\n",
    "                        (parent1+parent2)/2-beta*(parent1-parent2)/2))\n",
    "site=np.random.random((n,d))< pro_m/d\n",
    "mu=np.random.random((n,d))\n",
    "\n",
    "temp=site&(mu<=0.5)\n",
    "lower=np.tile(lower,(n,1))\n",
    "upper=np.tile(upper,(n,1))\n",
    "norm=(offspring_dec[temp]-lower[temp])/(upper[temp]-lower[temp])\n",
    "print(norm)\n",
    "\n",
    "\n",
    "    \n",
    "\n",
    "\n",
    "\n"
   ]
  },
  {
   "cell_type": "code",
   "execution_count": null,
   "metadata": {},
   "outputs": [],
   "source": []
  }
 ],
 "metadata": {
  "kernelspec": {
   "display_name": "Python 3",
   "language": "python",
   "name": "python3"
  },
  "language_info": {
   "codemirror_mode": {
    "name": "ipython",
    "version": 3
   },
   "file_extension": ".py",
   "mimetype": "text/x-python",
   "name": "python",
   "nbconvert_exporter": "python",
   "pygments_lexer": "ipython3",
   "version": "3.6.6"
  }
 },
 "nbformat": 4,
 "nbformat_minor": 2
}
